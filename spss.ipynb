{
 "cells": [
  {
   "cell_type": "code",
   "execution_count": 1,
   "metadata": {
    "collapsed": false
   },
   "outputs": [],
   "source": [
    "using DataFrames\n",
    "using DataFramesMeta\n",
    "using ExcelReaders"
   ]
  },
  {
   "cell_type": "code",
   "execution_count": 2,
   "metadata": {
    "collapsed": false
   },
   "outputs": [],
   "source": [
    "df = readtable(\"data/SspDb_country_data_2013-06-12.csv\");"
   ]
  },
  {
   "cell_type": "code",
   "execution_count": 11,
   "metadata": {
    "collapsed": false
   },
   "outputs": [
    {
     "data": {
      "text/html": [
       "<table class=\"data-frame\"><tr><th></th><th>gdp</th><th>model</th><th>scenario</th><th>region</th><th>unit</th><th>year</th></tr><tr><th>1</th><td>9.179</td><td>OECD Env-Growth</td><td>SSP2</td><td>BHS</td><td>billion US$2005/yr</td><td>2000</td></tr><tr><th>2</th><td>18.823</td><td>OECD Env-Growth</td><td>SSP2</td><td>BIH</td><td>billion US$2005/yr</td><td>2000</td></tr><tr><th>3</th><td>58.129</td><td>OECD Env-Growth</td><td>SSP2</td><td>BLR</td><td>billion US$2005/yr</td><td>2000</td></tr><tr><th>4</th><td>1.404</td><td>OECD Env-Growth</td><td>SSP2</td><td>BLZ</td><td>billion US$2005/yr</td><td>2000</td></tr><tr><th>5</th><td>0.0</td><td>OECD Env-Growth</td><td>SSP2</td><td>TWN</td><td>billion US$2005/yr</td><td>2000</td></tr><tr><th>6</th><td>29.632</td><td>OECD Env-Growth</td><td>SSP2</td><td>BOL</td><td>billion US$2005/yr</td><td>2000</td></tr><tr><th>7</th><td>1379.549</td><td>OECD Env-Growth</td><td>SSP2</td><td>BRA</td><td>billion US$2005/yr</td><td>2000</td></tr><tr><th>8</th><td>4.862</td><td>OECD Env-Growth</td><td>SSP2</td><td>BRB</td><td>billion US$2005/yr</td><td>2000</td></tr><tr><th>9</th><td>15.854</td><td>OECD Env-Growth</td><td>SSP2</td><td>BRN</td><td>billion US$2005/yr</td><td>2000</td></tr><tr><th>10</th><td>1.544</td><td>OECD Env-Growth</td><td>SSP2</td><td>BTN</td><td>billion US$2005/yr</td><td>2000</td></tr><tr><th>11</th><td>16.755</td><td>OECD Env-Growth</td><td>SSP2</td><td>BWA</td><td>billion US$2005/yr</td><td>2000</td></tr><tr><th>12</th><td>2.835</td><td>OECD Env-Growth</td><td>SSP2</td><td>CAF</td><td>billion US$2005/yr</td><td>2000</td></tr><tr><th>13</th><td>998.233</td><td>OECD Env-Growth</td><td>SSP2</td><td>CAN</td><td>billion US$2005/yr</td><td>2000</td></tr><tr><th>14</th><td>249.381</td><td>OECD Env-Growth</td><td>SSP2</td><td>CHE</td><td>billion US$2005/yr</td><td>2000</td></tr><tr><th>15</th><td>161.87</td><td>OECD Env-Growth</td><td>SSP2</td><td>CHL</td><td>billion US$2005/yr</td><td>2000</td></tr><tr><th>16</th><td>3367.175</td><td>OECD Env-Growth</td><td>SSP2</td><td>CHN</td><td>billion US$2005/yr</td><td>2000</td></tr><tr><th>17</th><td>30.024</td><td>OECD Env-Growth</td><td>SSP2</td><td>CIV</td><td>billion US$2005/yr</td><td>2000</td></tr><tr><th>18</th><td>29.056</td><td>OECD Env-Growth</td><td>SSP2</td><td>CMR</td><td>billion US$2005/yr</td><td>2000</td></tr><tr><th>19</th><td>12.912</td><td>OECD Env-Growth</td><td>SSP2</td><td>COD</td><td>billion US$2005/yr</td><td>2000</td></tr><tr><th>20</th><td>9.783</td><td>OECD Env-Growth</td><td>SSP2</td><td>COG</td><td>billion US$2005/yr</td><td>2000</td></tr><tr><th>21</th><td>263.194</td><td>OECD Env-Growth</td><td>SSP2</td><td>COL</td><td>billion US$2005/yr</td><td>2000</td></tr><tr><th>22</th><td>0.59</td><td>OECD Env-Growth</td><td>SSP2</td><td>COM</td><td>billion US$2005/yr</td><td>2000</td></tr><tr><th>23</th><td>0.956</td><td>OECD Env-Growth</td><td>SSP2</td><td>CPV</td><td>billion US$2005/yr</td><td>2000</td></tr><tr><th>24</th><td>31.891</td><td>OECD Env-Growth</td><td>SSP2</td><td>CRI</td><td>billion US$2005/yr</td><td>2000</td></tr><tr><th>25</th><td>39.078</td><td>OECD Env-Growth</td><td>SSP2</td><td>CUB</td><td>billion US$2005/yr</td><td>2000</td></tr><tr><th>26</th><td>15.776</td><td>OECD Env-Growth</td><td>SSP2</td><td>CYP</td><td>billion US$2005/yr</td><td>2000</td></tr><tr><th>27</th><td>178.131</td><td>OECD Env-Growth</td><td>SSP2</td><td>CZE</td><td>billion US$2005/yr</td><td>2000</td></tr><tr><th>28</th><td>2491.626</td><td>OECD Env-Growth</td><td>SSP2</td><td>DEU</td><td>billion US$2005/yr</td><td>2000</td></tr><tr><th>29</th><td>1.285</td><td>OECD Env-Growth</td><td>SSP2</td><td>DJI</td><td>billion US$2005/yr</td><td>2000</td></tr><tr><th>30</th><td>169.001</td><td>OECD Env-Growth</td><td>SSP2</td><td>DNK</td><td>billion US$2005/yr</td><td>2000</td></tr><tr><th>&vellip;</th><td>&vellip;</td><td>&vellip;</td><td>&vellip;</td><td>&vellip;</td><td>&vellip;</td><td>&vellip;</td></tr></table>"
      ],
      "text/plain": [
       "3864x6 DataFrame\n",
       "| Row  | gdp     | model             | scenario | region |\n",
       "|------|---------|-------------------|----------|--------|\n",
       "| 1    | 9.179   | \"OECD Env-Growth\" | \"SSP2\"   | \"BHS\"  |\n",
       "| 2    | 18.823  | \"OECD Env-Growth\" | \"SSP2\"   | \"BIH\"  |\n",
       "| 3    | 58.129  | \"OECD Env-Growth\" | \"SSP2\"   | \"BLR\"  |\n",
       "| 4    | 1.404   | \"OECD Env-Growth\" | \"SSP2\"   | \"BLZ\"  |\n",
       "| 5    | 0.0     | \"OECD Env-Growth\" | \"SSP2\"   | \"TWN\"  |\n",
       "| 6    | 29.632  | \"OECD Env-Growth\" | \"SSP2\"   | \"BOL\"  |\n",
       "| 7    | 1379.55 | \"OECD Env-Growth\" | \"SSP2\"   | \"BRA\"  |\n",
       "| 8    | 4.862   | \"OECD Env-Growth\" | \"SSP2\"   | \"BRB\"  |\n",
       "| 9    | 15.854  | \"OECD Env-Growth\" | \"SSP2\"   | \"BRN\"  |\n",
       "| 10   | 1.544   | \"OECD Env-Growth\" | \"SSP2\"   | \"BTN\"  |\n",
       "| 11   | 16.755  | \"OECD Env-Growth\" | \"SSP2\"   | \"BWA\"  |\n",
       "⋮\n",
       "| 3853 | 75.794  | \"OECD Env-Growth\" | \"SSP2\"   | \"ARM\"  |\n",
       "| 3854 | 4248.26 | \"OECD Env-Growth\" | \"SSP2\"   | \"AUS\"  |\n",
       "| 3855 | 925.629 | \"OECD Env-Growth\" | \"SSP2\"   | \"AUT\"  |\n",
       "| 3856 | 381.645 | \"OECD Env-Growth\" | \"SSP2\"   | \"AZE\"  |\n",
       "| 3857 | 624.595 | \"OECD Env-Growth\" | \"SSP2\"   | \"BDI\"  |\n",
       "| 3858 | 1393.09 | \"OECD Env-Growth\" | \"SSP2\"   | \"BEL\"  |\n",
       "| 3859 | 914.833 | \"OECD Env-Growth\" | \"SSP2\"   | \"BEN\"  |\n",
       "| 3860 | 2204.44 | \"OECD Env-Growth\" | \"SSP2\"   | \"BFA\"  |\n",
       "| 3861 | 6975.53 | \"OECD Env-Growth\" | \"SSP2\"   | \"BGD\"  |\n",
       "| 3862 | 396.137 | \"OECD Env-Growth\" | \"SSP2\"   | \"BGR\"  |\n",
       "| 3863 | 301.978 | \"OECD Env-Growth\" | \"SSP2\"   | \"BHR\"  |\n",
       "| 3864 | 6.301   | \"OECD Env-Growth\" | \"SSP2\"   | \"ABW\"  |\n",
       "\n",
       "| Row  | unit                 | year |\n",
       "|------|----------------------|------|\n",
       "| 1    | \"billion US\\$2005/yr\" | 2000 |\n",
       "| 2    | \"billion US\\$2005/yr\" | 2000 |\n",
       "| 3    | \"billion US\\$2005/yr\" | 2000 |\n",
       "| 4    | \"billion US\\$2005/yr\" | 2000 |\n",
       "| 5    | \"billion US\\$2005/yr\" | 2000 |\n",
       "| 6    | \"billion US\\$2005/yr\" | 2000 |\n",
       "| 7    | \"billion US\\$2005/yr\" | 2000 |\n",
       "| 8    | \"billion US\\$2005/yr\" | 2000 |\n",
       "| 9    | \"billion US\\$2005/yr\" | 2000 |\n",
       "| 10   | \"billion US\\$2005/yr\" | 2000 |\n",
       "| 11   | \"billion US\\$2005/yr\" | 2000 |\n",
       "⋮\n",
       "| 3853 | \"billion US\\$2005/yr\" | 2100 |\n",
       "| 3854 | \"billion US\\$2005/yr\" | 2100 |\n",
       "| 3855 | \"billion US\\$2005/yr\" | 2100 |\n",
       "| 3856 | \"billion US\\$2005/yr\" | 2100 |\n",
       "| 3857 | \"billion US\\$2005/yr\" | 2100 |\n",
       "| 3858 | \"billion US\\$2005/yr\" | 2100 |\n",
       "| 3859 | \"billion US\\$2005/yr\" | 2100 |\n",
       "| 3860 | \"billion US\\$2005/yr\" | 2100 |\n",
       "| 3861 | \"billion US\\$2005/yr\" | 2100 |\n",
       "| 3862 | \"billion US\\$2005/yr\" | 2100 |\n",
       "| 3863 | \"billion US\\$2005/yr\" | 2100 |\n",
       "| 3864 | \"billion US\\$2005/yr\" | 2100 |"
      ]
     },
     "execution_count": 11,
     "metadata": {},
     "output_type": "execute_result"
    }
   ],
   "source": [
    "df_gdp = @where(df, :VARIABLE .== \"GDP|PPP\")\n",
    "delete!(df_gdp, :VARIABLE)\n",
    "df_gdp = melt(df_gdp, [:MODEL, :SCENARIO, :REGION, :UNIT])\n",
    "rename!(df_gdp, :variable, :year_unformatted)\n",
    "rename!(df_gdp, :MODEL, :model)\n",
    "rename!(df_gdp, :SCENARIO, :scenario)\n",
    "rename!(df_gdp, :REGION, :region)\n",
    "rename!(df_gdp, :UNIT, :unit)\n",
    "df_gdp = @where(df_gdp, !isna(:value))\n",
    "rename!(df_gdp, :value, :gdp)\n",
    "df_gdp[:year] = [int(string(s)[2:end]) for s in df_gdp[:year_unformatted]]\n",
    "df_gdp[:scenario] = [s[1:search(s, '_')-1] for s in df_gdp[:scenario]]\n",
    "delete!(df_gdp, :year_unformatted)\n",
    "df_gdp = @where(df_gdp, (:scenario .== \"SSP2\") & (:model .== \"OECD Env-Growth\") )\n",
    "df_gdp = @where(df_gdp, !isna(:gdp))"
   ]
  },
  {
   "cell_type": "code",
   "execution_count": 4,
   "metadata": {
    "collapsed": false
   },
   "outputs": [],
   "source": [
    "df_pop = @where(df, :VARIABLE .== \"Population\")\n",
    "delete!(df_pop, :VARIABLE)\n",
    "df_pop = melt(df_pop, [:MODEL, :SCENARIO, :REGION, :UNIT])\n",
    "rename!(df_pop, :variable, :year_unformatted)\n",
    "rename!(df_pop, :MODEL, :model)\n",
    "rename!(df_pop, :SCENARIO, :scenario)\n",
    "rename!(df_pop, :REGION, :region)\n",
    "rename!(df_pop, :UNIT, :unit)\n",
    "df_pop = @where(df_pop, !isna(:value))\n",
    "rename!(df_pop, :value, :population)\n",
    "df_pop[:year] = [int(string(s)[2:end]) for s in df_pop[:year_unformatted]]\n",
    "delete!(df_pop, :year_unformatted)\n",
    "df_pop = @where(df_pop, !isna(:population));"
   ]
  },
  {
   "cell_type": "code",
   "execution_count": 5,
   "metadata": {
    "collapsed": false
   },
   "outputs": [
    {
     "data": {
      "text/html": [
       "<table class=\"data-frame\"><tr><th></th><th>gdp</th><th>model</th><th>scenario</th><th>region</th><th>unit</th><th>year</th></tr><tr><th>1</th><td>9.179</td><td>OECD Env-Growth</td><td>SSP1_v9_130325</td><td>BHS</td><td>billion US$2005/yr</td><td>2000</td></tr><tr><th>2</th><td>18.823</td><td>OECD Env-Growth</td><td>SSP1_v9_130325</td><td>BIH</td><td>billion US$2005/yr</td><td>2000</td></tr><tr><th>3</th><td>58.129</td><td>OECD Env-Growth</td><td>SSP1_v9_130325</td><td>BLR</td><td>billion US$2005/yr</td><td>2000</td></tr><tr><th>4</th><td>1.404</td><td>OECD Env-Growth</td><td>SSP1_v9_130325</td><td>BLZ</td><td>billion US$2005/yr</td><td>2000</td></tr><tr><th>5</th><td>0.0</td><td>OECD Env-Growth</td><td>SSP1_v9_130325</td><td>TWN</td><td>billion US$2005/yr</td><td>2000</td></tr><tr><th>6</th><td>29.632</td><td>OECD Env-Growth</td><td>SSP1_v9_130325</td><td>BOL</td><td>billion US$2005/yr</td><td>2000</td></tr></table>"
      ],
      "text/plain": [
       "6x6 DataFrame\n",
       "| Row | gdp    | model             | scenario         | region |\n",
       "|-----|--------|-------------------|------------------|--------|\n",
       "| 1   | 9.179  | \"OECD Env-Growth\" | \"SSP1_v9_130325\" | \"BHS\"  |\n",
       "| 2   | 18.823 | \"OECD Env-Growth\" | \"SSP1_v9_130325\" | \"BIH\"  |\n",
       "| 3   | 58.129 | \"OECD Env-Growth\" | \"SSP1_v9_130325\" | \"BLR\"  |\n",
       "| 4   | 1.404  | \"OECD Env-Growth\" | \"SSP1_v9_130325\" | \"BLZ\"  |\n",
       "| 5   | 0.0    | \"OECD Env-Growth\" | \"SSP1_v9_130325\" | \"TWN\"  |\n",
       "| 6   | 29.632 | \"OECD Env-Growth\" | \"SSP1_v9_130325\" | \"BOL\"  |\n",
       "\n",
       "| Row | unit                 | year |\n",
       "|-----|----------------------|------|\n",
       "| 1   | \"billion US\\$2005/yr\" | 2000 |\n",
       "| 2   | \"billion US\\$2005/yr\" | 2000 |\n",
       "| 3   | \"billion US\\$2005/yr\" | 2000 |\n",
       "| 4   | \"billion US\\$2005/yr\" | 2000 |\n",
       "| 5   | \"billion US\\$2005/yr\" | 2000 |\n",
       "| 6   | \"billion US\\$2005/yr\" | 2000 |"
      ]
     },
     "execution_count": 5,
     "metadata": {},
     "output_type": "execute_result"
    }
   ],
   "source": [
    "head(df_gdp)"
   ]
  }
 ],
 "metadata": {
  "kernelspec": {
   "display_name": "Julia 0.4.6",
   "language": "julia",
   "name": "julia-0.4"
  },
  "language_info": {
   "file_extension": ".jl",
   "mimetype": "application/julia",
   "name": "julia",
   "version": "0.4.6"
  }
 },
 "nbformat": 4,
 "nbformat_minor": 0
}

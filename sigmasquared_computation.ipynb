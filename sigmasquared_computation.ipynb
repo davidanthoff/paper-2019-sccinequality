{
 "cells": [
  {
   "cell_type": "code",
   "execution_count": 23,
   "metadata": {
    "collapsed": true
   },
   "outputs": [],
   "source": [
    "using ExcelReaders\n",
    "using MAT\n",
    "using DataFrames"
   ]
  },
  {
   "cell_type": "code",
   "execution_count": 24,
   "metadata": {
    "collapsed": false
   },
   "outputs": [
    {
     "data": {
      "text/plain": [
       "Dict{ASCIIString,Any} with 11 entries:\n",
       "  \"pop_ssp5\" => [1.0 310.383948 326.160245 344.8662737 365.9350988 387.2356832 …\n",
       "  \"gdp_ssp3\" => [1.0 40699.06815 43171.00014 45974.53664 49511.67481 52494.5874…\n",
       "  \"gdp_ssp2\" => [1.0 40699.06815 42574.20919 44667.28819 47807.87476 51107.9441…\n",
       "  \"pop_ssp3\" => [1.0 310.383948 318.4248185 322.7035952 323.4248908 322.5945276…\n",
       "  \"gdp_ssp5\" => [1.0 40699.06815 43002.65641 46079.15145 50767.66394 56081.7346…\n",
       "  \"gdp_ssp4\" => [1.0 40699.06815 42712.09843 44919.16748 48102.2469 51249.09483…\n",
       "  \"year\"     => [1.0 2.0 3.0 4.0 5.0 6.0 7.0 8.0 9.0 10.0 11.0 12.0 13.0 14.0 1…\n",
       "  \"pop_ssp2\" => [1.0 310.383948 322.3548963 334.0017421 345.105165 355.5011116 …\n",
       "  \"gdp_ssp1\" => [1.0 40699.06815 43220.35267 46431.58823 51046.02859 55866.9948…\n",
       "  \"pop_ssp1\" => [1.0 310.383948 322.6317893 335.006332 347.2315303 359.065537 3…\n",
       "  \"pop_ssp4\" => [1.0 310.383948 320.3476971 328.6954929 335.5920771 341.7154404…"
      ]
     },
     "execution_count": 24,
     "metadata": {},
     "output_type": "execute_result"
    }
   ],
   "source": [
    "vars = matread(\"SSP_projections_RICE.mat\")"
   ]
  },
  {
   "cell_type": "code",
   "execution_count": 25,
   "metadata": {
    "collapsed": false
   },
   "outputs": [],
   "source": [
    "# nothing need to be changed below\n",
    "# select SSP to choose (SSP2 is base case)\n",
    "gdp = vars[\"gdp_ssp2\"]\n",
    "pop = vars[\"pop_ssp2\"];"
   ]
  },
  {
   "cell_type": "code",
   "execution_count": 34,
   "metadata": {
    "collapsed": false
   },
   "outputs": [
    {
     "data": {
      "text/html": [
       "<table class=\"data-frame\"><tr><th></th><th>CountryIndex</th><th>RegionIndex</th><th>Year</th><th>GDP</th></tr></table>"
      ],
      "text/plain": [
       "0x4 DataFrame\n"
      ]
     },
     "execution_count": 34,
     "metadata": {},
     "output_type": "execute_result"
    }
   ],
   "source": [
    "df_gdp = DataFrame([Int, Int, Int, Float64], [:CountryIndex, :RegionIndex, :Year, :GDP], 0)"
   ]
  },
  {
   "cell_type": "code",
   "execution_count": 36,
   "metadata": {
    "collapsed": false
   },
   "outputs": [],
   "source": [
    "for i in 1:size(gdp,1), l in 2:size(gdp,2)\n",
    "    regionIndex = int(gdp[i,1])\n",
    "    year = 2010 + (l-2) * 5\n",
    "    push!(df_gdp, (i, regionIndex, year, gdp[i,l]))\n",
    "end"
   ]
  },
  {
   "cell_type": "code",
   "execution_count": 12,
   "metadata": {
    "collapsed": false
   },
   "outputs": [],
   "source": [
    "ppp2mer = vec(float64(convert(Array, readxl(\"SIGMA_SQUARED_from_SSPs.xlsx\", \"Region Country Aggregation!H2:H204\"))))"
   ]
  },
  {
   "cell_type": "code",
   "execution_count": 17,
   "metadata": {
    "collapsed": false
   },
   "outputs": [
    {
     "data": {
      "text/plain": [
       "203x19 Array{Float64,2}:\n",
       " 40699.1    42574.2    44667.3   47807.9   …  105086.0   111683.0  118610.0\n",
       " 35732.2    38250.7    41094.4   44919.2      111171.0   118281.0  125867.0\n",
       "     0.0        0.0        0.0       0.0           0.0        0.0       0.0\n",
       " 40148.1    42254.7    43073.3   44001.4       95134.6   101422.0  108141.0\n",
       " 37697.1    43139.6    50008.2   58629.0      143939.0   151830.0  160045.0\n",
       " 17145.2    20317.8    24209.2   28426.1   …   73310.9    79268.6   85673.8\n",
       " 48172.4    48885.6    49791.7   51892.9      122909.0   131258.0  140090.0\n",
       " 38371.7    42162.3    45821.4   50441.6      123054.0   130622.0  138642.0\n",
       " 36402.5    38574.1    43818.1   50824.7      132541.0   140455.0  148716.0\n",
       " 34944.2    35432.6    35384.9   35730.6       83316.8    89180.9   95440.7\n",
       " 23169.0    27169.2    30475.4   34811.8   …   99622.3   105918.0  112533.0\n",
       " 56193.7    60632.8    64125.0   70935.8      205950.0   219746.0  233939.0\n",
       " 43084.9    44318.6    46936.6   51772.5      139242.0   148719.0  158683.0\n",
       "     ⋮                                     ⋱                               \n",
       "  4025.88    4431.89    5421.43   6881.98      33873.6    37130.0   40496.0\n",
       "   816.397    978.292   1127.47   1270.91       9937.74   11802.8   14026.9\n",
       "     0.0        0.0        0.0       0.0           0.0        0.0       0.0\n",
       "   769.487   1088.39    1432.59   1842.72      13418.3    15126.5   16950.5\n",
       "     0.0        0.0        0.0       0.0   …       0.0        0.0       0.0\n",
       "  7393.48    8787.09    9478.17  10247.8       41508.5    45552.6   49842.8\n",
       "  5004.61    7258.93    9366.58  10965.1       50656.6    56127.3   61883.8\n",
       "  5279.94    5665.03    6144.48   7003.62      29381.3    32290.1   35420.6\n",
       " 17249.7    23571.1    25045.8   25235.9       65905.1    69772.3   73857.5\n",
       "     0.0        0.0        0.0       0.0   …       0.0        0.0       0.0\n",
       "  3070.87    3969.19    4888.71   5911.42      30516.4    34350.0   38421.9\n",
       "     0.0        0.0        0.0       0.0           0.0        0.0       0.0"
      ]
     },
     "execution_count": 17,
     "metadata": {},
     "output_type": "execute_result"
    }
   ],
   "source": [
    "# adjusting for MERs from PPP\n",
    "# missing are set to one\n",
    "gdp[:,2:20] = gdp[:,2:20].*ppp2mer;"
   ]
  },
  {
   "cell_type": "code",
   "execution_count": 22,
   "metadata": {
    "collapsed": false
   },
   "outputs": [
    {
     "data": {
      "text/plain": [
       "12"
      ]
     },
     "execution_count": 22,
     "metadata": {},
     "output_type": "execute_result"
    }
   ],
   "source": [
    "# FUND: 16, RICE: 12\n",
    "num_regions=maximum(int(gdp[:,1]))"
   ]
  }
 ],
 "metadata": {
  "kernelspec": {
   "display_name": "Julia 0.3.11",
   "language": "julia",
   "name": "julia-0.3"
  },
  "language_info": {
   "name": "julia",
   "version": "0.3.11"
  }
 },
 "nbformat": 4,
 "nbformat_minor": 0
}

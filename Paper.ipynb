{
 "cells": [
  {
   "cell_type": "code",
   "execution_count": null,
   "metadata": {
    "collapsed": false
   },
   "outputs": [],
   "source": [
    "using DataFrames\n",
    "using Compat\n",
    "using DataFramesMeta\n",
    "using ProgressMeter\n",
    "using PyPlot"
   ]
  },
  {
   "cell_type": "code",
   "execution_count": null,
   "metadata": {
    "collapsed": false
   },
   "outputs": [],
   "source": [
    "include(\"../fund.jl/src/fund.jl\")\n",
    "include(\"../fund.jl/src/marginaldamages.jl\")"
   ]
  },
  {
   "cell_type": "code",
   "execution_count": null,
   "metadata": {
    "collapsed": true
   },
   "outputs": [],
   "source": [
    "rice_regions = [\"US\", \"EU\", \"Japan\", \"Russia\", \"Eurasia\", \"China\", \"India\", \"MidEast\", \"Africa\", \"LatAm\", \"OHI\", \"OthAsia\"]\n",
    "fund_regions = [\"USA\", \"CAN\", \"WEU\", \"JPK\", \"ANZ\", \"EEU\", \"FSU\", \"MDE\", \"CAM\", \"LAM\", \"SAS\", \"SEA\", \"CHI\", \"MAF\", \"SSA\", \"SIS\"];"
   ]
  },
  {
   "cell_type": "markdown",
   "metadata": {},
   "source": [
    "Allocate some Dicts that hold the output per model. Key is model name"
   ]
  },
  {
   "cell_type": "code",
   "execution_count": null,
   "metadata": {
    "collapsed": false
   },
   "outputs": [],
   "source": [
    "σ_squareds = @compat Dict{String,Matrix{Float64}}()\n",
    "cpcs = @compat Dict{String,Matrix{Float64}}()\n",
    "pops = @compat Dict{String,Matrix{Float64}}()\n",
    "globpops = @compat Dict{String,Vector{Float64}}()\n",
    "mds = @compat Dict{String,Matrix{Float64}}()"
   ]
  },
  {
   "cell_type": "markdown",
   "metadata": {},
   "source": [
    "# FUND"
   ]
  },
  {
   "cell_type": "code",
   "execution_count": null,
   "metadata": {
    "collapsed": false,
    "scrolled": true
   },
   "outputs": [],
   "source": [
    "# Price inflator from $1995 to $2014, taken from http://www.bls.gov/data/inflation_calculator.htm\n",
    "const priceInflatorFUND = 1.55"
   ]
  },
  {
   "cell_type": "markdown",
   "metadata": {},
   "source": [
    "## Get $\\sigma^2$ for FUND"
   ]
  },
  {
   "cell_type": "code",
   "execution_count": null,
   "metadata": {
    "collapsed": false
   },
   "outputs": [],
   "source": [
    "x1 = readcsv(\"data/fund_sigmasquared.csv\")\n",
    "# Fix column/row layout\n",
    "x2 = x1'\n",
    "# Original uses a 5 year timestep, this repeats each year entry five times to get to a yearly matrix\n",
    "x3 = repeat(x2, inner=[5,1])\n",
    "# Create a matrix for later years that are not covered in the input file, by simply repeating the last year\n",
    "x4 = repmat(x3[end,:], 195, 1)\n",
    "# Combine the matrix for the covered years with the matrix for the later years\n",
    "x5 = vcat(x3, x4)\n",
    "# Done\n",
    "σ_squareds[\"FUND\"] = x5[6:end,:];"
   ]
  },
  {
   "cell_type": "markdown",
   "metadata": {},
   "source": [
    "## Run FUND"
   ]
  },
  {
   "cell_type": "code",
   "execution_count": null,
   "metadata": {
    "collapsed": false
   },
   "outputs": [],
   "source": [
    "param_fund = loadparameters(\"../fund.jl/data\");\n",
    "m_fund = getfund(params=param_fund);\n",
    "run(m_fund)\n",
    "pops[\"FUND\"] = m_fund[:population, :populationin1][65:65+284,:];\n",
    "globpops[\"FUND\"] = vec(sum(m_fund[:population, :populationin1], 2))[65:65+284]\n",
    "cpcs[\"FUND\"] = (m_fund[:socioeconomic, :consumption] ./ m_fund[:population, :populationin1])[65:65+284,:] .* priceInflatorFUND\n",
    "mds[\"FUND\"] = getmarginaldamages(parameters=param_fund, emissionyear=2015)[65:65+284,:].*12/44;"
   ]
  },
  {
   "cell_type": "markdown",
   "metadata": {},
   "source": [
    "/# RICE"
   ]
  },
  {
   "cell_type": "code",
   "execution_count": null,
   "metadata": {
    "collapsed": false
   },
   "outputs": [],
   "source": [
    "# Price inflator from $2005 to $2014, taken from http://www.bls.gov/data/inflation_calculator.htm\n",
    "const priceInflatorRICE = 1.21"
   ]
  },
  {
   "cell_type": "markdown",
   "metadata": {},
   "source": [
    "## Get $\\sigma^2$ for RICE"
   ]
  },
  {
   "cell_type": "code",
   "execution_count": null,
   "metadata": {
    "collapsed": false
   },
   "outputs": [],
   "source": [
    "x1 = readcsv(\"data/rice_sigmasquared.csv\")\n",
    "# Fix column/row layout\n",
    "x2 = x1'\n",
    "# Original uses a 5 year timestep, this repeats each year entry five times to get to a yearly matrix\n",
    "x3 = repeat(x2, inner=[5,1])\n",
    "# Create a matrix for later years that are not covered in the input file, by simply repeating the last year\n",
    "x4 = repmat(x3[end,:], 195, 1)\n",
    "# Combine the matrix for the covered years with the matrix for the later years\n",
    "x5 = vcat(x3, x4)\n",
    "# Done\n",
    "σ_squareds[\"RICE\"] = x5[6:end,:];"
   ]
  },
  {
   "cell_type": "markdown",
   "metadata": {},
   "source": [
    "## Run RICE"
   ]
  },
  {
   "cell_type": "code",
   "execution_count": null,
   "metadata": {
    "collapsed": false
   },
   "outputs": [],
   "source": [
    "x1 = readcsv(\"data/rice_md.csv\")\n",
    "# Fix column/row layout\n",
    "x2 = x1'\n",
    "# Original uses a 10 year timestep, this repeats each year entry ten times to get to a yearly matrix\n",
    "x3 = repeat(x2, inner=[10,1])\n",
    "# Leave out some later years to match σ_squared size\n",
    "x4 = x3[1:285,:]\n",
    "# Price level adjustment\n",
    "x5 = x4 .* priceInflatorRICE\n",
    "mds[\"RICE\"] = x5.*12/44;"
   ]
  },
  {
   "cell_type": "code",
   "execution_count": null,
   "metadata": {
    "collapsed": true
   },
   "outputs": [],
   "source": [
    "x1 = readcsv(\"data/rice_cpc.csv\")\n",
    "# Fix column/row layout\n",
    "x2 = x1'\n",
    "# Original uses a 10 year timestep, this repeats each year entry ten times to get to a yearly matrix\n",
    "x3 = repeat(x2, inner=[10,1])\n",
    "# Leave out some later years to match σ_squared size\n",
    "x4 = x3[1:285,:]\n",
    "# Price level adjustment\n",
    "x5 = x4 .* priceInflatorRICE\n",
    "cpcs[\"RICE\"] = x5;"
   ]
  },
  {
   "cell_type": "code",
   "execution_count": null,
   "metadata": {
    "collapsed": false
   },
   "outputs": [],
   "source": [
    "x1 = readcsv(\"data/rice_population.csv\")\n",
    "# Fix column/row layout\n",
    "x2 = x1'\n",
    "# Original uses a 10 year timestep, this repeats each year entry ten times to get to a yearly matrix\n",
    "x3 = repeat(x2, inner=[10,1])\n",
    "# Leave out some later years to match σ_squared size\n",
    "x4 = x3[1:285,:]\n",
    "pops[\"RICE\"] = x4\n",
    "globpops[\"RICE\"] = vec(sum(x4, 2));"
   ]
  },
  {
   "cell_type": "markdown",
   "metadata": {},
   "source": [
    "# Output for JE"
   ]
  },
  {
   "cell_type": "code",
   "execution_count": null,
   "metadata": {
    "collapsed": false
   },
   "outputs": [],
   "source": [
    "writecsv(\"output/RICE_sigmasquared.csv\", σ_squareds[\"RICE\"])\n",
    "writecsv(\"output/FUND_sigmasquared.csv\", σ_squareds[\"FUND\"])\n",
    "writecsv(\"output/RICE_cpc.csv\", cpcs[\"RICE\"])\n",
    "writecsv(\"output/FUND_cpc.csv\", cpcs[\"FUND\"])\n",
    "writecsv(\"output/RICE_pop.csv\", pops[\"RICE\"])\n",
    "writecsv(\"output/FUND_pop.csv\", pops[\"FUND\"]);"
   ]
  },
  {
   "cell_type": "markdown",
   "metadata": {},
   "source": [
    "# Compute SCC"
   ]
  },
  {
   "cell_type": "markdown",
   "metadata": {},
   "source": [
    "Main equation of the paper"
   ]
  },
  {
   "cell_type": "code",
   "execution_count": null,
   "metadata": {
    "collapsed": false
   },
   "outputs": [],
   "source": [
    "function equation11(cpc, pop, globpop, md, σsquared, σZero, γ, η, ρ, α, focus_region, I, c_ede)\n",
    "    timesteps, regions = size(cpc)\n",
    "    \n",
    "    for t=1:timesteps, r=1:regions\n",
    "        if σZero\n",
    "            I[t, r] = 1.0 - exp(-0.5 * γ * 0.0)\n",
    "        else\n",
    "            I[t, r] = 1.0 - exp(-0.5 * γ * σsquared[t, r])\n",
    "        end\n",
    "    end\n",
    "      \n",
    "    for t=1:timesteps\n",
    "        if γ == 1.\n",
    "            # DOUBLE CHECK\n",
    "            temp_x = 0.\n",
    "            for r=1:regions\n",
    "                temp_x += pop[t,r] * log(cpc[t,r] * (1.0 - I[t,r]))\n",
    "            end\n",
    "            c_ede[t] = exp( temp_x / globpop[t])\n",
    "        else\n",
    "            temp_x = 0.\n",
    "            for r=1:regions\n",
    "                temp_x += pop[t,r] * (cpc[t,r] * (1.0 - I[t,r]))^(1.0 - γ)\n",
    "            end\n",
    "            c_ede[t] =(temp_x/globpop[t])^(1.0 / (1.0 - γ))\n",
    "        end\n",
    "    end\n",
    "\n",
    "    globc = 0.\n",
    "    for r=1:regions\n",
    "        globc += pop[1,r] * cpc[1,r]\n",
    "    end\n",
    "    \n",
    "    cpc0x = focus_region == -1 ? globc / globpop[1] : cpc[1, focus_region]\n",
    "\n",
    "    scc = 0.\n",
    "    for t=1:timesteps, r=1:regions\n",
    "        scc +=  md[t, r] *                      # P_rt * d_rt in the paper\n",
    "                (1.0 + ρ)^(-(t-1)) *          # time discount factor\n",
    "                (cpc0x / cpc[t, r])^γ *         # Normal equity weight\n",
    "                (c_ede[t] / c_ede[1])^(γ - η) * # New thing\n",
    "                (1.0 - I[t, r])^(-(γ + 1.0)) *  # New thing 2\n",
    "                (1.0 - I[t, r])^(2 * α)         # This is Δ\n",
    "    end\n",
    "    return scc\n",
    "end;"
   ]
  },
  {
   "cell_type": "markdown",
   "metadata": {},
   "source": [
    "Modify this to run for different parameter combinations."
   ]
  },
  {
   "cell_type": "code",
   "execution_count": null,
   "metadata": {
    "collapsed": false
   },
   "outputs": [],
   "source": [
    "σZeros = [true, false]\n",
    "γs = linspace(0., 2., 21)\n",
    "ηs = linspace(0., 2., 21)\n",
    "ρs = [0.001, 0.015, 0.03]\n",
    "#ρs = linspace(0., 0.06, 13)\n",
    "#αs = [0., 1.];\n",
    "αs = linspace(0., 1.5, 16);"
   ]
  },
  {
   "cell_type": "markdown",
   "metadata": {},
   "source": [
    "Compute SCCs"
   ]
  },
  {
   "cell_type": "code",
   "execution_count": null,
   "metadata": {
    "collapsed": false
   },
   "outputs": [],
   "source": [
    "df = DataFrame([Float64, Float64, Float64, Float64, Int64, Bool, Float64, String], [:rho, :eta, :gamma, :alpha, :focusregion, :sigmazero, :scc, :model], 0)\n",
    "\n",
    "for model=[\"RICE\", \"FUND\"]\n",
    "    cpc = cpcs[model]\n",
    "    pop = pops[model]\n",
    "    globpop = globpops[model]\n",
    "    md = mds[model]\n",
    "    σSquared = σ_squareds[model]\n",
    "    \n",
    "    # Pre-allocate some arrays\n",
    "    c_ede = similar(globpops[model])\n",
    "    I = similar(mds[model]);    \n",
    "    \n",
    "    focus_regions = vcat(-1, collect(1:size(cpc,2)))\n",
    "    \n",
    "    progress = Progress(length(σZeros) * length(γs) * length(ηs) * length(ρs) * length(αs) * length(focus_regions),1,\"Computing $model...\")\n",
    "\n",
    "    for σZero=σZeros, γ=γs, η=ηs, ρ=ρs, α=αs, focus_region=focus_regions\n",
    "        scc = equation11(cpc, pop, globpop, md, σSquared, σZero, γ, η, ρ, α, focus_region, I, c_ede)\n",
    "        push!(df, (ρ,η,γ,α,focus_region,σZero,scc,model))\n",
    "        next!(progress)\n",
    "    end\n",
    "end"
   ]
  },
  {
   "cell_type": "markdown",
   "metadata": {},
   "source": [
    "# Plotting"
   ]
  },
  {
   "cell_type": "markdown",
   "metadata": {},
   "source": [
    "## Figure 1"
   ]
  },
  {
   "cell_type": "code",
   "execution_count": null,
   "metadata": {
    "collapsed": false
   },
   "outputs": [],
   "source": [
    "df_temp = @where(df, (:rho .== 0.015) & (:focusregion .== 1) & (:alpha .== 1.) & (:gamma .<= 1.5) )\n",
    "\n",
    "df_figure1_panelA_line1 = @where(df_temp, (:model .== \"FUND\") & (:sigmazero .== true) & (:eta .== :gamma) )\n",
    "df_figure1_panelA_line2 = @where(df_temp, (:model .== \"FUND\") & (:sigmazero .== true) & (:eta .== 1.5) )\n",
    "\n",
    "df_figure1_panelB_line1 = @where(df_temp, (:model .== \"RICE\") & (:sigmazero .== true) & (:eta .== :gamma) )\n",
    "df_figure1_panelB_line2 = @where(df_temp, (:model .== \"RICE\") & (:sigmazero .== true) & (:eta .== 1.5) )\n",
    "nothing"
   ]
  },
  {
   "cell_type": "code",
   "execution_count": null,
   "metadata": {
    "collapsed": false,
    "scrolled": false
   },
   "outputs": [],
   "source": [
    "f, axs = subplots(1,2, sharex= true, sharey=false, figsize=(8,4))\n",
    "f[:subplots_adjust](bottom=0.15)\n",
    "\n",
    "axs[1][:plot](df_figure1_panelA_line1[:gamma], df_figure1_panelA_line1[:scc])\n",
    "axs[1][:plot](df_figure1_panelA_line2[:gamma], df_figure1_panelA_line2[:scc])\n",
    "axs[1][:set_title](\"FUND\")\n",
    "axs[1][:legend]([L\"$\\eta=\\gamma$\", L\"$\\eta=1.5$\"], \"upper left\")\n",
    "axs[1][:set_xlim]([0., 1.5])\n",
    "axs[1][:grid]()\n",
    "axs[1][:set_xlabel](L\"$\\gamma$\")\n",
    "axs[1][:set_ylabel](L\"$\\mathrm{\\$/tCO_{2}}$\")\n",
    "\n",
    "axs[2][:plot](df_figure1_panelB_line1[:gamma], df_figure1_panelB_line1[:scc])\n",
    "axs[2][:plot](df_figure1_panelB_line2[:gamma], df_figure1_panelB_line2[:scc])\n",
    "axs[2][:set_title](\"RICE\")\n",
    "axs[2][:grid]()\n",
    "axs[2][:set_xlabel](L\"$\\gamma$\")\n",
    "\n",
    "f[:suptitle](L\"\\mathrm{Social\\/Cost\\/of\\/Carbon\\/(}\\rho=0.015,\\/\\mathrm{US\\/normalization)}\")\n",
    "\n",
    "f[:subplots_adjust](top=0.85)\n",
    "\n",
    "savefig(\"output/SCC_by_gamma.pdf\")\n",
    "\n",
    "nothing"
   ]
  },
  {
   "cell_type": "markdown",
   "metadata": {},
   "source": [
    "## Figure 2"
   ]
  },
  {
   "cell_type": "code",
   "execution_count": null,
   "metadata": {
    "collapsed": true
   },
   "outputs": [],
   "source": [
    "df_temp = @where(df, (:rho .== 0.015) & (:focusregion .== 1) & (:gamma .== 0.7) & (:eta .== 1.5) )\n",
    "\n",
    "df_figure2_panelA_line1 = @where(df_temp, (:model .== \"FUND\") & (:sigmazero .== true) )\n",
    "df_figure2_panelA_line2 = @where(df_temp, (:model .== \"FUND\") & (:sigmazero .== false) )\n",
    "df_figure2_panelA_line3 = @where(df, (:rho .== 0.015) & (:focusregion .== 1) & (:gamma .== 0.) & (:eta .== 1.5) & (:model .== \"FUND\") & (:sigmazero .== false) )\n",
    "\n",
    "df_figure2_panelB_line1 = @where(df_temp, (:model .== \"RICE\") & (:sigmazero .== true) )\n",
    "df_figure2_panelB_line2 = @where(df_temp, (:model .== \"RICE\") & (:sigmazero .== false) )\n",
    "df_figure2_panelB_line3 = @where(df, (:rho .== 0.015) & (:focusregion .== 1) & (:gamma .== 0.) & (:eta .== 1.5) & (:model .== \"RICE\") & (:sigmazero .== false) )\n",
    "nothing"
   ]
  },
  {
   "cell_type": "code",
   "execution_count": null,
   "metadata": {
    "collapsed": false
   },
   "outputs": [],
   "source": [
    "f, axs = subplots(1,2, sharex= true, sharey=false, figsize=(8,4))\n",
    "f[:subplots_adjust](bottom=0.15)\n",
    "\n",
    "axs[1][:plot](df_figure2_panelA_line1[:alpha], df_figure2_panelA_line1[:scc])\n",
    "axs[1][:plot](df_figure2_panelA_line2[:alpha], df_figure2_panelA_line2[:scc])\n",
    "axs[1][:plot](df_figure2_panelA_line3[:alpha], df_figure2_panelA_line3[:scc])\n",
    "axs[1][:set_title](\"FUND\")\n",
    "axs[1][:legend]([\"regional inequality\", \"country inequality\", \"no inequality\"], \"middle center\")\n",
    "axs[1][:set_xlim]([0., 1.5])\n",
    "axs[1][:set_ylim]([0., 10])\n",
    "axs[1][:grid]()\n",
    "axs[1][:set_xlabel](L\"$\\alpha$\")\n",
    "axs[1][:set_ylabel](L\"$\\mathrm{\\$/tCO_{2}}$\")\n",
    "\n",
    "axs[2][:plot](df_figure2_panelB_line1[:alpha], df_figure2_panelB_line1[:scc])\n",
    "axs[2][:plot](df_figure2_panelB_line2[:alpha], df_figure2_panelB_line2[:scc])\n",
    "axs[2][:plot](df_figure2_panelB_line3[:alpha], df_figure2_panelB_line3[:scc])\n",
    "axs[2][:set_title](\"RICE\")\n",
    "axs[2][:set_ylim]([0., 50])\n",
    "axs[2][:grid]()\n",
    "axs[2][:set_xlabel](L\"$\\alpha$\")\n",
    "\n",
    "f[:suptitle](L\"\\mathrm{Social\\/Cost\\/of\\/Carbon\\/(}\\rho=0.015,\\/\\eta=1.5,\\/\\gamma=0.7,\\/\\mathrm{US\\/normalization)}\")\n",
    "\n",
    "f[:subplots_adjust](top=0.85)\n",
    "\n",
    "savefig(\"output/SCC_by_alpha.pdf\")\n",
    "\n",
    "nothing"
   ]
  },
  {
   "cell_type": "markdown",
   "metadata": {},
   "source": [
    "## Figure 3"
   ]
  },
  {
   "cell_type": "code",
   "execution_count": null,
   "metadata": {
    "collapsed": false
   },
   "outputs": [],
   "source": [
    "df_temp = @where(df, (:rho .== 0.015) & (:eta .== 1.5) & (:sigmazero .== true) & (:alpha .== 0.) & (:focusregion .!= -1) )\n",
    "\n",
    "df_figure3_panelA_line1 = @where(df_temp, (:model .== \"FUND\") & (:gamma .== 0.0))\n",
    "sort!(df_figure3_panelA_line1, cols=[:scc])\n",
    "\n",
    "df_figure3_panelA_line2= @where(df_temp, (:model .== \"FUND\") & (:gamma .== 0.1))\n",
    "sort!(df_figure3_panelA_line2, cols=[:scc])\n",
    "\n",
    "df_figure3_panelA_line3= @where(df_temp, (:model .== \"FUND\") & (:gamma .== 0.3))\n",
    "sort!(df_figure3_panelA_line3, cols=[:scc])\n",
    "\n",
    "df_figure3_panelA_line4= @where(df_temp, (:model .== \"FUND\") & (:gamma .== 0.5))\n",
    "sort!(df_figure3_panelA_line4, cols=[:scc])\n",
    "\n",
    "df_figure3_panelA_line5= @where(df_temp, (:model .== \"FUND\") & (:gamma .== 0.7))\n",
    "sort!(df_figure3_panelA_line5, cols=[:scc])\n",
    "\n",
    "df_figure3_panelB_line1 = @where(df_temp, (:model .== \"RICE\") & (:gamma .== 0.0))\n",
    "sort!(df_figure3_panelB_line1, cols=[:scc])\n",
    "\n",
    "df_figure3_panelB_line2 = @where(df_temp, (:model .== \"RICE\") & (:gamma .== 0.1))\n",
    "sort!(df_figure3_panelB_line2, cols=[:scc])\n",
    "\n",
    "df_figure3_panelB_line3 = @where(df_temp, (:model .== \"RICE\") & (:gamma .== 0.3))\n",
    "sort!(df_figure3_panelB_line3, cols=[:scc])\n",
    "\n",
    "df_figure3_panelB_line4 = @where(df_temp, (:model .== \"RICE\") & (:gamma .== 0.5))\n",
    "sort!(df_figure3_panelB_line4, cols=[:scc])\n",
    "\n",
    "df_figure3_panelB_line5 = @where(df_temp, (:model .== \"RICE\") & (:gamma .== 0.7))\n",
    "sort!(df_figure3_panelB_line5, cols=[:scc])\n",
    "\n",
    "nothing"
   ]
  },
  {
   "cell_type": "code",
   "execution_count": null,
   "metadata": {
    "collapsed": false,
    "scrolled": false
   },
   "outputs": [],
   "source": [
    "f, axs = subplots(1,2, sharex= false, sharey=false, figsize=(8,4))\n",
    "f[:subplots_adjust](bottom=0.25)\n",
    "\n",
    "axs[1][:plot](collect(1:16), df_figure3_panelA_line1[:scc], marker=\"o\")\n",
    "axs[1][:plot](collect(1:16), df_figure3_panelA_line2[:scc], marker=\"o\")\n",
    "axs[1][:plot](collect(1:16), df_figure3_panelA_line3[:scc], marker=\"o\")\n",
    "axs[1][:plot](collect(1:16), df_figure3_panelA_line4[:scc], marker=\"o\")\n",
    "axs[1][:plot](collect(1:16), df_figure3_panelA_line5[:scc], marker=\"o\")\n",
    "axs[1][:set_xticks](collect(1:16))\n",
    "axs[1][:set_xticklabels]([fund_regions[i] for i in df_figure3_panelA_line2[:focusregion]], rotation=\"vertical\", ha=\"center\")\n",
    "axs[1][:set_title](\"FUND\")\n",
    "axs[1][:set_xlabel](\"normalization\")\n",
    "axs[1][:set_ylabel](L\"$\\mathrm{\\$/tCO_{2}}$\")\n",
    "axs[1][:legend]([L\"\\gamma=0.0\", L\"\\gamma=0.1\", L\"\\gamma=0.3\", L\"\\gamma=0.5\", L\"\\gamma=0.7\"], \"upper left\")\n",
    "\n",
    "axs[2][:plot](collect(1:12), df_figure3_panelB_line1[:scc], marker=\"o\")\n",
    "axs[2][:plot](collect(1:12), df_figure3_panelB_line2[:scc], marker=\"o\")\n",
    "axs[2][:plot](collect(1:12), df_figure3_panelB_line3[:scc], marker=\"o\")\n",
    "axs[2][:plot](collect(1:12), df_figure3_panelB_line4[:scc], marker=\"o\")\n",
    "axs[2][:plot](collect(1:12), df_figure3_panelB_line5[:scc], marker=\"o\")\n",
    "axs[2][:set_xticks](collect(1:12))\n",
    "axs[2][:set_xticklabels]([rice_regions[i] for i in df_figure3_panelB_line2[:focusregion]], rotation=\"vertical\", ha=\"center\")\n",
    "axs[2][:set_title](\"RICE\")\n",
    "axs[2][:set_xlabel](\"normalization\")\n",
    "\n",
    "f[:suptitle](L\"\\mathrm{Social\\/Cost\\/of\\/Carbon\\/(}\\rho=0.015,\\/\\eta=1.5,\\/\\mathrm{region\\/inequality)}\")\n",
    "\n",
    "f[:subplots_adjust](top=0.85)\n",
    "\n",
    "savefig(\"output/SCC_by_normalization.pdf\")\n",
    "\n",
    "nothing"
   ]
  },
  {
   "cell_type": "markdown",
   "metadata": {},
   "source": [
    "# Figure 4"
   ]
  },
  {
   "cell_type": "code",
   "execution_count": null,
   "metadata": {
    "collapsed": true
   },
   "outputs": [],
   "source": [
    "df_temp = @where(df, (:rho .== 0.015) & ( ((:focusregion .== 9) & (:model.==\"RICE\")) | ((:focusregion .==15) & (:model.==\"FUND\")) ) & (:alpha .== 1.) & (:gamma .<= 1.5) )\n",
    "\n",
    "df_figure4_panelA_line1 = @where(df_temp, (:model .== \"FUND\") & (:sigmazero .== true) & (:eta .== :gamma) )\n",
    "df_figure4_panelA_line2 = @where(df_temp, (:model .== \"FUND\") & (:sigmazero .== true) & (:eta .== 1.5) )\n",
    "\n",
    "df_figure4_panelB_line1 = @where(df_temp, (:model .== \"RICE\") & (:sigmazero .== true) & (:eta .== :gamma) )\n",
    "df_figure4_panelB_line2 = @where(df_temp, (:model .== \"RICE\") & (:sigmazero .== true) & (:eta .== 1.5) )\n",
    "nothing"
   ]
  },
  {
   "cell_type": "code",
   "execution_count": null,
   "metadata": {
    "collapsed": false
   },
   "outputs": [],
   "source": [
    "f, axs = subplots(1,2, sharex= true, sharey=false, figsize=(8,4))\n",
    "f[:subplots_adjust](bottom=0.15)\n",
    "\n",
    "axs[1][:plot](df_figure4_panelA_line1[:gamma], df_figure4_panelA_line1[:scc])\n",
    "axs[1][:plot](df_figure4_panelA_line2[:gamma], df_figure4_panelA_line2[:scc])\n",
    "axs[1][:set_title](\"FUND\")\n",
    "axs[1][:legend]([L\"$\\eta=\\gamma$\", L\"$\\eta=1.5$\"], \"upper left\")\n",
    "axs[1][:set_xlim]([0., 1.5])\n",
    "axs[1][:grid]()\n",
    "axs[1][:set_xlabel](L\"$\\gamma$\")\n",
    "axs[1][:set_ylabel](L\"$\\mathrm{\\$/tCO_{2}}$\")\n",
    "\n",
    "axs[2][:plot](df_figure4_panelB_line1[:gamma], df_figure4_panelB_line1[:scc])\n",
    "axs[2][:plot](df_figure4_panelB_line2[:gamma], df_figure4_panelB_line2[:scc])\n",
    "axs[2][:set_title](\"RICE\")\n",
    "axs[2][:grid]()\n",
    "axs[2][:set_xlabel](L\"$\\gamma$\")\n",
    "\n",
    "f[:suptitle](L\"\\mathrm{Social\\/Cost\\/of\\/Carbon\\/(}\\rho=0.015,\\/\\mathrm{poor\\/normalization)}\")\n",
    "\n",
    "f[:subplots_adjust](top=0.85)\n",
    "\n",
    "savefig(\"output/SCC_by_gamma_for_poor_normalization.pdf\")\n",
    "\n",
    "nothing"
   ]
  },
  {
   "cell_type": "markdown",
   "metadata": {},
   "source": [
    "## Table rho sensitivity"
   ]
  },
  {
   "cell_type": "code",
   "execution_count": null,
   "metadata": {
    "collapsed": false
   },
   "outputs": [],
   "source": [
    "df_table3 = @where(df, (:focusregion .== 1) & (:alpha .== 1.) & (:gamma .== 0.7) & (:eta .== 1.5) & (:sigmazero .== true) )\n",
    "df_table3 = DataFrame(model=df_table3[:model], rho=df_table3[:rho], scc=df_table3[:scc])\n",
    "df_table3 = unstack(df_table3, :rho, :model, :scc)\n",
    "rename!(df_table3, :model, :rho)\n",
    "sort!(df_table3, cols=[:rho])\n",
    "df_table3"
   ]
  },
  {
   "cell_type": "code",
   "execution_count": null,
   "metadata": {
    "collapsed": false
   },
   "outputs": [],
   "source": [
    "df_table3b = @where(df, (:focusregion .== 1) & (:alpha .== 1.) & (:gamma .== 0.0) & (:eta .== 1.5) & (:sigmazero .== true) )\n",
    "df_table3b = DataFrame(model=df_table3b[:model], rho=df_table3b[:rho], scc=df_table3b[:scc])\n",
    "df_table3b = unstack(df_table3b, :rho, :model, :scc)\n",
    "rename!(df_table3b, :model, :rho)\n",
    "sort!(df_table3b, cols=[:rho])\n",
    "df_table3b"
   ]
  },
  {
   "cell_type": "markdown",
   "metadata": {},
   "source": [
    "## Table central results"
   ]
  },
  {
   "cell_type": "code",
   "execution_count": null,
   "metadata": {
    "collapsed": false
   },
   "outputs": [],
   "source": [
    "df_table4 = DataFrame(Any, 0, 4)\n",
    "push!(df_table4, [\"\", \"parameter specification\", \"FUND\", \"RICE\"])\n",
    "model_base_fund = @where(df, (:model.==\"FUND\") & (:rho.==0.015) & (:eta.==1.5) & (:gamma.==0.) & (:alpha.==1.) & (:sigmazero.==true) & (:focusregion.==1))[1,:scc]\n",
    "model_base_rice = @where(df, (:model.==\"RICE\") & (:rho.==0.015) & (:eta.==1.5) & (:gamma.==0.) & (:alpha.==1.) & (:sigmazero.==true) & (:focusregion.==1))[1,:scc]\n",
    "push!(df_table4, [\"model base value\", \"eta=1.5, rho=0.015\", model_base_fund, model_base_rice])\n",
    "model_ri_fund = @where(df, (:model.==\"FUND\") & (:rho.==0.015) & (:eta.==1.5) & (:gamma.==0.7) & (:alpha.==1.) & (:sigmazero.==true) & (:focusregion.==1))[1,:scc]\n",
    "model_ri_rice = @where(df, (:model.==\"RICE\") & (:rho.==0.015) & (:eta.==1.5) & (:gamma.==0.7) & (:alpha.==1.) & (:sigmazero.==true) & (:focusregion.==1))[1,:scc]\n",
    "push!(df_table4, [\"disentangled inequality aversion\", \"and gamma=0.7\", model_ri_fund, model_ri_rice])\n",
    "model_ci_fund = @where(df, (:model.==\"FUND\") & (:rho.==0.015) & (:eta.==1.5) & (:gamma.==0.7) & (:alpha.==1.) & (:sigmazero.==false) & (:focusregion.==1))[1,:scc]\n",
    "model_ci_rice = @where(df, (:model.==\"RICE\") & (:rho.==0.015) & (:eta.==1.5) & (:gamma.==0.7) & (:alpha.==1.) & (:sigmazero.==false) & (:focusregion.==1))[1,:scc]\n",
    "push!(df_table4, [\"and country inequality\", \"and alpha=1.0\", model_ci_fund, model_ci_rice])\n",
    "df_table4"
   ]
  }
 ],
 "metadata": {
  "kernelspec": {
   "display_name": "Julia 0.3.11",
   "language": "julia",
   "name": "julia-0.3"
  },
  "language_info": {
   "file_extension": ".jl",
   "mimetype": "application/julia",
   "name": "julia",
   "version": "0.3.11"
  }
 },
 "nbformat": 4,
 "nbformat_minor": 0
}

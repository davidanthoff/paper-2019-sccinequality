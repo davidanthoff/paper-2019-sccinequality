{
 "cells": [
  {
   "cell_type": "code",
   "execution_count": null,
   "metadata": {
    "collapsed": false
   },
   "outputs": [],
   "source": [
    "using DataFrames\n",
    "using Compat\n",
    "using DataFramesMeta\n",
    "using PyPlot"
   ]
  },
  {
   "cell_type": "code",
   "execution_count": null,
   "metadata": {
    "collapsed": false
   },
   "outputs": [],
   "source": [
    "include(\"../fund.jl/src/fund.jl\")\n",
    "include(\"../fund.jl/src/marginaldamages.jl\")"
   ]
  },
  {
   "cell_type": "markdown",
   "metadata": {},
   "source": [
    "Allocate some Dicts that hold the output per model. Key is model name"
   ]
  },
  {
   "cell_type": "code",
   "execution_count": null,
   "metadata": {
    "collapsed": false
   },
   "outputs": [],
   "source": [
    "σ_squareds = @compat Dict{String,Matrix{Float64}}()\n",
    "cpcs = @compat Dict{String,Matrix{Float64}}()\n",
    "pops = @compat Dict{String,Matrix{Float64}}()\n",
    "globpops = @compat Dict{String,Vector{Float64}}()\n",
    "mds = @compat Dict{String,Matrix{Float64}}()"
   ]
  },
  {
   "cell_type": "markdown",
   "metadata": {},
   "source": [
    "# FUND"
   ]
  },
  {
   "cell_type": "code",
   "execution_count": null,
   "metadata": {
    "collapsed": false,
    "scrolled": true
   },
   "outputs": [],
   "source": [
    "const priceInflatorFUND = 1.55"
   ]
  },
  {
   "cell_type": "markdown",
   "metadata": {},
   "source": [
    "## Get $\\sigma^2$ for FUND"
   ]
  },
  {
   "cell_type": "code",
   "execution_count": null,
   "metadata": {
    "collapsed": false
   },
   "outputs": [],
   "source": [
    "x1 = readcsv(\"data/fund_sigmasquared.csv\")\n",
    "# Fix column/row layout\n",
    "x2 = x1'\n",
    "# Original uses a 5 year timestep, this repeats each year entry five times to get to a yearly matrix\n",
    "x3 = repeat(x2, inner=[5,1])\n",
    "# Create a matrix for later years that are not covered in the input file, by simply repeating the last year\n",
    "x4 = repmat(x3[end,:], 195, 1)\n",
    "# Combine the matrix for the covered years with the matrix for the later years\n",
    "x5 = vcat(x3, x4)\n",
    "# Done\n",
    "σ_squareds[\"FUND\"] = x5;"
   ]
  },
  {
   "cell_type": "markdown",
   "metadata": {},
   "source": [
    "## Run FUND"
   ]
  },
  {
   "cell_type": "code",
   "execution_count": null,
   "metadata": {
    "collapsed": false
   },
   "outputs": [],
   "source": [
    "param_fund = loadparameters(\"../fund.jl/data\");\n",
    "m_fund = getfund(params=param_fund);\n",
    "run(m_fund)\n",
    "pops[\"FUND\"] = m_fund[:population, :populationin1][65:65+284,:];\n",
    "globpops[\"FUND\"] = vec(sum(m_fund[:population, :populationin1], 2))[65:65+284]\n",
    "cpcs[\"FUND\"] = (m_fund[:socioeconomic, :consumption] ./ m_fund[:population, :populationin1])[65:65+284,:] .* priceInflatorFUND\n",
    "mds[\"FUND\"] = getmarginaldamages(parameters=param_fund, emissionyear=2015)[65:65+284,:];"
   ]
  },
  {
   "cell_type": "markdown",
   "metadata": {},
   "source": [
    "# Compute SCC"
   ]
  },
  {
   "cell_type": "markdown",
   "metadata": {},
   "source": [
    "Preallocate some arrays"
   ]
  },
  {
   "cell_type": "code",
   "execution_count": null,
   "metadata": {
    "collapsed": false
   },
   "outputs": [],
   "source": [
    "c_ede = similar(globpops[\"FUND\"])\n",
    "I = similar(mds[\"FUND\"]);"
   ]
  },
  {
   "cell_type": "markdown",
   "metadata": {},
   "source": [
    "Main equation of the paper"
   ]
  },
  {
   "cell_type": "code",
   "execution_count": null,
   "metadata": {
    "collapsed": false
   },
   "outputs": [],
   "source": [
    "function equation11(cpc, pop, globpop, md, σsquared, σZero, γ, η, ρ, α, focus_region, I, c_ede)\n",
    "    timesteps, regions = size(cpc)\n",
    "    \n",
    "    for t=1:timesteps, r=1:regions\n",
    "        if σZero\n",
    "            I[t, r] = 1.0 - exp(-0.5 * γ * 0.0)\n",
    "        else\n",
    "            I[t, r] = 1.0 - exp(-0.5 * γ * σsquared[t, r])\n",
    "        end\n",
    "    end\n",
    "      \n",
    "    for t=1:timesteps\n",
    "        if γ == 1.\n",
    "            # DOUBLE CHECK\n",
    "            temp_x = 0.\n",
    "            for r=1:regions\n",
    "                temp_x += pop[t,r] * log(cpc[t,r] * (1.0 - I[t,r]))\n",
    "            end\n",
    "            c_ede[t] = exp( temp_x / globpop[t])\n",
    "        else\n",
    "            temp_x = 0.\n",
    "            for r=1:regions\n",
    "                temp_x += pop[t,r] * (cpc[t,r] * (1.0 - I[t,r]))^(1.0 - γ)\n",
    "            end\n",
    "            c_ede[t] =(temp_x/globpop[t])^(1.0 / (1.0 - γ))\n",
    "        end\n",
    "    end\n",
    "\n",
    "    globc = 0.\n",
    "    for r=1:regions\n",
    "        globc += pop[1,r] * cpc[1,r]\n",
    "    end\n",
    "    \n",
    "    cpc0x = focus_region == -1 ? globc / globpop[1] : cpc[1, focus_region]\n",
    "\n",
    "    scc = 0.\n",
    "    for t=1:timesteps, r=1:regions\n",
    "        scc +=  md[t, r] *                      # P_rt * d_rt in the paper\n",
    "                (1.0 + ρ)^(-(t-1)) *          # time discount factor\n",
    "                (cpc0x / cpc[t, r])^γ *         # Normal equity weight\n",
    "                (c_ede[t] / c_ede[1])^(γ - η) * # New thing\n",
    "                (1.0 - I[t, r])^(-(γ + 1.0)) *  # New thing 2\n",
    "                (1.0 - I[t, r])^(2 * α)         # This is Δ\n",
    "    end\n",
    "    return scc\n",
    "end;"
   ]
  },
  {
   "cell_type": "markdown",
   "metadata": {},
   "source": [
    "Modify this to run for different parameter combinations."
   ]
  },
  {
   "cell_type": "code",
   "execution_count": null,
   "metadata": {
    "collapsed": false
   },
   "outputs": [],
   "source": [
    "σZeros = [true, false]\n",
    "#γs = linspace(0., 1.5, 16)\n",
    "γs = linspace(0., 2., 11)\n",
    "ηs = linspace(0., 2., 11)\n",
    "#ρs = [0.001, 0.015, 0.03]\n",
    "ρs = linspace(0., 0.06, 13)\n",
    "αs = [0., 1.]\n",
    "focus_regions = vcat(-1, [1:16]);"
   ]
  },
  {
   "cell_type": "markdown",
   "metadata": {},
   "source": [
    "Compute SCCs"
   ]
  },
  {
   "cell_type": "code",
   "execution_count": null,
   "metadata": {
    "collapsed": false
   },
   "outputs": [],
   "source": [
    "df = DataFrame([Float64, Float64, Float64, Float64, Int64, Bool, Float64, String], [:rho, :eta, :gamma, :alpha, :focusregion, :sigmazero, :scc, :model], 0)\n",
    "\n",
    "for model=keys(cpcs)\n",
    "    cpc = cpcs[model]\n",
    "    pop = pops[model]\n",
    "    globpop = globpops[model]\n",
    "    md = mds[model]\n",
    "    σSquared = σ_squareds[model]\n",
    "\n",
    "    for σZero=σZeros, γ=γs, η=ηs, ρ=ρs, α=αs, focus_region=focus_regions\n",
    "        scc = equation11(cpc, pop, globpop, md, σSquared, σZero, γ, η, ρ, α, focus_region, I, c_ede)\n",
    "        push!(df, (ρ,η,γ,α,focus_region,σZero,scc,model))\n",
    "    end\n",
    "end"
   ]
  },
  {
   "cell_type": "code",
   "execution_count": null,
   "metadata": {
    "collapsed": false
   },
   "outputs": [],
   "source": [
    "df"
   ]
  },
  {
   "cell_type": "markdown",
   "metadata": {},
   "source": [
    "# Plotting"
   ]
  },
  {
   "cell_type": "markdown",
   "metadata": {},
   "source": [
    "## Figure 1"
   ]
  },
  {
   "cell_type": "code",
   "execution_count": null,
   "metadata": {
    "collapsed": false
   },
   "outputs": [],
   "source": [
    "df_temp = @where(df, (:rho .== 0.015) & (:focusregion .== -1) & (:alpha .== 1.) & (:gamma .<= 1.5) )\n",
    "\n",
    "df_figure1_panelA_line1 = @where(df_temp, (:model .== \"FUND\") & (:sigmazero .== true) & (:eta .== :gamma) )\n",
    "df_figure1_panelA_line2 = @where(df_temp, (:model .== \"FUND\") & (:sigmazero .== true) & (:eta .== 1.4) )\n",
    "\n",
    "df_figure1_panelB_line1 = @where(df_temp, (:model .== \"RICE\") & (:sigmazero .== true) & (:eta .== :gamma) )\n",
    "df_figure1_panelB_line2 = @where(df_temp, (:model .== \"RICE\") & (:sigmazero .== true) & (:eta .== 1.4) )\n",
    "\n",
    "df_figure1_panelC_line1 = @where(df_temp, (:model .== \"FUND\") & (:sigmazero .== false) & (:eta .== :gamma) )\n",
    "df_figure1_panelC_line2 = @where(df_temp, (:model .== \"FUND\") & (:sigmazero .== false) & (:eta .== 1.4) )\n",
    "\n",
    "df_figure1_panelD_line1 = @where(df_temp, (:model .== \"RICE\") & (:sigmazero .== false) & (:eta .== :gamma) )\n",
    "df_figure1_panelD_line2 = @where(df_temp, (:model .== \"RICE\") & (:sigmazero .== false) & (:eta .== 1.4) )"
   ]
  },
  {
   "cell_type": "code",
   "execution_count": null,
   "metadata": {
    "collapsed": false
   },
   "outputs": [],
   "source": [
    "f, axs = subplots(2,2, sharex= true, sharey=true)\n",
    "\n",
    "axs[1,1][:plot](df_figure1_panelA_line1[:gamma], df_figure1_panelA_line1[:scc])\n",
    "axs[1,1][:plot](df_figure1_panelA_line2[:gamma], df_figure1_panelA_line2[:scc])\n",
    "axs[1,1][:set_title](\"FUND\")\n",
    "\n",
    "axs[1,2][:plot](df_figure1_panelB_line1[:gamma], df_figure1_panelB_line1[:scc])\n",
    "axs[1,2][:plot](df_figure1_panelB_line2[:gamma], df_figure1_panelB_line2[:scc])\n",
    "axs[1,2][:set_title](\"RICE\")\n",
    "\n",
    "axs[2,1][:plot](df_figure1_panelC_line1[:gamma], df_figure1_panelC_line1[:scc])\n",
    "axs[2,1][:plot](df_figure1_panelC_line2[:gamma], df_figure1_panelC_line2[:scc])\n",
    "axs[2,1][:set_xlabel](L\"$\\gamma$\")\n",
    "\n",
    "\n",
    "axs[2,2][:plot](df_figure1_panelD_line1[:gamma], df_figure1_panelD_line1[:scc])\n",
    "axs[2,2][:plot](df_figure1_panelD_line2[:gamma], df_figure1_panelD_line2[:scc])\n",
    "axs[2,2][:set_xlabel](L\"$\\gamma$\")"
   ]
  }
 ],
 "metadata": {
  "kernelspec": {
   "display_name": "Julia 0.3.11",
   "language": "julia",
   "name": "julia-0.3"
  },
  "language_info": {
   "name": "julia",
   "version": "0.3.11"
  }
 },
 "nbformat": 4,
 "nbformat_minor": 0
}
